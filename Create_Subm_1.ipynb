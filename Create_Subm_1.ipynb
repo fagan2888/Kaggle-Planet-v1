{
 "cells": [
  {
   "cell_type": "code",
   "execution_count": 44,
   "metadata": {
    "collapsed": true
   },
   "outputs": [],
   "source": [
    "import os"
   ]
  },
  {
   "cell_type": "code",
   "execution_count": 45,
   "metadata": {
    "collapsed": true
   },
   "outputs": [],
   "source": [
    "# use GPU 1\n",
    "os.environ[\"CUDA_DEVICE_ORDER\"] = \"PCI_BUS_ID\"\n",
    "os.environ[\"CUDA_VISIBLE_DEVICES\"] = \"1\""
   ]
  },
  {
   "cell_type": "code",
   "execution_count": 46,
   "metadata": {
    "collapsed": true
   },
   "outputs": [],
   "source": [
    "IMAGES_DIR = '/d2/caches/kaggle-planet/processed-images-128x128'\n",
    "IMAGE_SHAPE = (128, 128, 4)\n",
    "TEST_TIFFS_DIR = '/datasets/kaggle/planet/test-tif-v2'\n",
    "MODEL = '/d2/caches/kaggle-planet/models/E/e00-l=0.16684-vl=0.14902.h5'\n",
    "THRESHOLD = 0.25"
   ]
  },
  {
   "cell_type": "code",
   "execution_count": 47,
   "metadata": {},
   "outputs": [
    {
     "name": "stdout",
     "output_type": "stream",
     "text": [
      "MODEL_CHECKPOINT_DIR not defined \n"
     ]
    }
   ],
   "source": [
    "%run 'Lib.ipynb'"
   ]
  },
  {
   "cell_type": "code",
   "execution_count": 48,
   "metadata": {
    "collapsed": true
   },
   "outputs": [],
   "source": [
    "import keras"
   ]
  },
  {
   "cell_type": "code",
   "execution_count": 49,
   "metadata": {},
   "outputs": [
    {
     "name": "stdout",
     "output_type": "stream",
     "text": [
      "61191\n"
     ]
    }
   ],
   "source": [
    "X_files_pred = [x.split('.')[0] for x in list_files(TEST_TIFFS_DIR)]\n",
    "print(len(X_files_pred))"
   ]
  },
  {
   "cell_type": "code",
   "execution_count": 50,
   "metadata": {
    "collapsed": true
   },
   "outputs": [],
   "source": [
    "model = keras.models.load_model(MODEL)"
   ]
  },
  {
   "cell_type": "code",
   "execution_count": 51,
   "metadata": {},
   "outputs": [
    {
     "name": "stderr",
     "output_type": "stream",
     "text": [
      "100%|██████████| 61191/61191 [03:07<00:00, 326.89it/s]\n"
     ]
    }
   ],
   "source": [
    "subm = []\n",
    "\n",
    "import re\n",
    "\n",
    "classes_misc = np.load('out/classes_misc.npy').tolist()\n",
    "classes_weather = np.load('out/classes_weather.npy').tolist()\n",
    "\n",
    "i = 0\n",
    "\n",
    "for f in tqdm(X_files_pred):\n",
    "    assert (os.path.isfile(IMAGES_DIR + '/' + f))\n",
    "\n",
    "    b = generate_batch(\n",
    "        n_samples=1,\n",
    "        batch_index=i,\n",
    "        X_files=X_files_pred,\n",
    "        Y_tags_misc=None,\n",
    "        Y_tags_weather=None,\n",
    "        images_dir=IMAGES_DIR,\n",
    "        image_shape=IMAGE_SHAPE)\n",
    "\n",
    "    p = model.predict_on_batch(b)\n",
    "\n",
    "    tags = []\n",
    "\n",
    "    tags_misc = p[0][0]\n",
    "    tags_weather = p[1][0]\n",
    "\n",
    "    # misc\n",
    "    for j, v in enumerate(tags_misc):\n",
    "        if v > THRESHOLD:  # cut-off\n",
    "            tags.append(classes_misc[j])\n",
    "\n",
    "    # weather\n",
    "    tag_weather = classes_weather[np.argmax(tags_weather)]\n",
    "    if 'unknown' != tag_weather: tags.append(tag_weather)\n",
    "\n",
    "    subm.append({'image_name': f, 'tags': ' '.join(tags)})\n",
    "\n",
    "    i += 1"
   ]
  },
  {
   "cell_type": "code",
   "execution_count": 52,
   "metadata": {
    "collapsed": true
   },
   "outputs": [],
   "source": [
    "subm_df = pd.DataFrame(subm)"
   ]
  },
  {
   "cell_type": "code",
   "execution_count": 53,
   "metadata": {
    "collapsed": true
   },
   "outputs": [],
   "source": [
    "subm_df.to_csv('out/submission-m.csv', index=False)"
   ]
  },
  {
   "cell_type": "code",
   "execution_count": 11,
   "metadata": {
    "collapsed": true
   },
   "outputs": [],
   "source": [
    "# t = [0.07, 0.17, 0.2, 0.04, 0.23, 0.33, 0.24, 0.22, 0.1, 0.19, 0.23, 0.24, 0.12, 0.14, 0.25, 0.26, 0.16]"
   ]
  },
  {
   "cell_type": "code",
   "execution_count": 12,
   "metadata": {
    "collapsed": true
   },
   "outputs": [],
   "source": [
    "# np.mean(t[:13])"
   ]
  }
 ],
 "metadata": {
  "kernelspec": {
   "display_name": "Python 3",
   "language": "python",
   "name": "python3"
  },
  "language_info": {
   "codemirror_mode": {
    "name": "ipython",
    "version": 3
   },
   "file_extension": ".py",
   "mimetype": "text/x-python",
   "name": "python",
   "nbconvert_exporter": "python",
   "pygments_lexer": "ipython3",
   "version": "3.5.2"
  }
 },
 "nbformat": 4,
 "nbformat_minor": 2
}
