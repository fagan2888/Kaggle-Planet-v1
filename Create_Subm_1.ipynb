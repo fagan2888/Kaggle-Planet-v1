{
 "cells": [
  {
   "cell_type": "code",
   "execution_count": 1,
   "metadata": {
    "collapsed": true
   },
   "outputs": [],
   "source": [
    "import os"
   ]
  },
  {
   "cell_type": "code",
   "execution_count": 2,
   "metadata": {
    "collapsed": true
   },
   "outputs": [],
   "source": [
    "# use GPU 1\n",
    "os.environ[\"CUDA_DEVICE_ORDER\"] = \"PCI_BUS_ID\"\n",
    "os.environ[\"CUDA_VISIBLE_DEVICES\"] = \"1\""
   ]
  },
  {
   "cell_type": "code",
   "execution_count": 3,
   "metadata": {
    "collapsed": true
   },
   "outputs": [],
   "source": [
    "IMAGES_DIR = '/d2/caches/kaggle-planet/processed-images-64x64'\n",
    "IMAGE_SHAPE = (64, 64, 4)\n",
    "TEST_TIFFS_DIR = '/datasets/kaggle/planet/test-tif-v2'\n",
    "MODEL = '/d2/caches/kaggle-planet/models/A/e09-l=0.22781-vl=0.28093.h5'\n",
    "THRESHOLD = 0.5"
   ]
  },
  {
   "cell_type": "code",
   "execution_count": 5,
   "metadata": {},
   "outputs": [
    {
     "name": "stdout",
     "output_type": "stream",
     "text": [
      "MODEL_CHECKPOINT_DIR not defined \n"
     ]
    }
   ],
   "source": [
    "%run 'Lib.ipynb'"
   ]
  },
  {
   "cell_type": "code",
   "execution_count": 6,
   "metadata": {},
   "outputs": [],
   "source": [
    "import keras"
   ]
  },
  {
   "cell_type": "code",
   "execution_count": 7,
   "metadata": {},
   "outputs": [
    {
     "name": "stdout",
     "output_type": "stream",
     "text": [
      "61191\n"
     ]
    }
   ],
   "source": [
    "X_files_pred = [x.split('.')[0] for x in list_files(TEST_TIFFS_DIR)]\n",
    "print(len(X_files_pred))"
   ]
  },
  {
   "cell_type": "code",
   "execution_count": 8,
   "metadata": {},
   "outputs": [],
   "source": [
    "model = keras.models.load_model(MODEL)"
   ]
  },
  {
   "cell_type": "code",
   "execution_count": 9,
   "metadata": {},
   "outputs": [
    {
     "name": "stderr",
     "output_type": "stream",
     "text": [
      "100%|██████████| 61191/61191 [01:51<00:00, 549.15it/s]\n"
     ]
    }
   ],
   "source": [
    "subm = []\n",
    "\n",
    "import re\n",
    "\n",
    "classes_misc = np.load('out/classes_misc.npy').tolist()\n",
    "classes_weather = np.load('out/classes_weather.npy').tolist()\n",
    "\n",
    "i = 0\n",
    "\n",
    "for f in tqdm(X_files_pred):\n",
    "    assert (os.path.isfile(IMAGES_DIR + '/' + f))\n",
    "\n",
    "    b = generate_batch(\n",
    "        n_samples=1,\n",
    "        batch_index=i,\n",
    "        X_files=X_files_pred,\n",
    "        Y_tags_misc=None,\n",
    "        Y_tags_weather=None,\n",
    "        images_dir=IMAGES_DIR,\n",
    "        image_shape=IMAGE_SHAPE)\n",
    "\n",
    "    p = model.predict_on_batch(b)\n",
    "\n",
    "    tags = []\n",
    "\n",
    "    tags_misc = p[0][0]\n",
    "    tags_weather = p[1][0]\n",
    "\n",
    "    # misc\n",
    "    for j, v in enumerate(tags_misc):\n",
    "        if v > THRESHOLD:  # cut-off\n",
    "            tags.append(classes_misc[j])\n",
    "\n",
    "    # weather\n",
    "    tag_weather = classes_weather[np.argmax(tags_weather)]\n",
    "    if 'unknown' != tag_weather: tags.append(tag_weather)\n",
    "\n",
    "    subm.append({'image_name': f, 'tags': ' '.join(tags)})\n",
    "\n",
    "    i += 1"
   ]
  },
  {
   "cell_type": "code",
   "execution_count": 10,
   "metadata": {
    "collapsed": true
   },
   "outputs": [],
   "source": [
    "subm_df = pd.DataFrame(subm)"
   ]
  },
  {
   "cell_type": "code",
   "execution_count": 11,
   "metadata": {
    "collapsed": true
   },
   "outputs": [],
   "source": [
    "subm_df.to_csv('out/submission-c.csv', index=False)"
   ]
  },
  {
   "cell_type": "code",
   "execution_count": null,
   "metadata": {
    "collapsed": true
   },
   "outputs": [],
   "source": []
  }
 ],
 "metadata": {
  "kernelspec": {
   "display_name": "Python 3",
   "language": "python",
   "name": "python3"
  },
  "language_info": {
   "codemirror_mode": {
    "name": "ipython",
    "version": 3
   },
   "file_extension": ".py",
   "mimetype": "text/x-python",
   "name": "python",
   "nbconvert_exporter": "python",
   "pygments_lexer": "ipython3",
   "version": "3.5.2"
  }
 },
 "nbformat": 4,
 "nbformat_minor": 2
}
