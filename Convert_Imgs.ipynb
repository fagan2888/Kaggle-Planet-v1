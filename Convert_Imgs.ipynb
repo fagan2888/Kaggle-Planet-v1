{
 "cells": [
  {
   "cell_type": "code",
   "execution_count": 1,
   "metadata": {
    "collapsed": true
   },
   "outputs": [],
   "source": [
    "DATA_DIR = '/d2/caches/kaggle-planet'\n",
    "DATA_DIR_TRAIN = DATA_DIR + '/train-tif-v2'\n",
    "DATA_DIR_TEST = DATA_DIR + '/test-tif-v2'\n",
    "OUT_DIR = '/d2/caches/kaggle-planet/processed-images-128x128'"
   ]
  },
  {
   "cell_type": "code",
   "execution_count": 2,
   "metadata": {
    "collapsed": true
   },
   "outputs": [],
   "source": [
    "%run 'Lib.ipynb'"
   ]
  },
  {
   "cell_type": "code",
   "execution_count": 3,
   "metadata": {
    "collapsed": true
   },
   "outputs": [],
   "source": [
    "train_paths = [DATA_DIR_TRAIN + '/' + x for x in list_files(DATA_DIR_TRAIN)]\n",
    "test_paths = [DATA_DIR_TEST + '/' + x for x in list_files(DATA_DIR_TEST)]\n",
    "all_paths = train_paths + test_paths"
   ]
  },
  {
   "cell_type": "code",
   "execution_count": 4,
   "metadata": {},
   "outputs": [
    {
     "data": {
      "text/plain": [
       "101670"
      ]
     },
     "execution_count": 4,
     "metadata": {},
     "output_type": "execute_result"
    }
   ],
   "source": [
    "len(all_paths)"
   ]
  },
  {
   "cell_type": "code",
   "execution_count": 5,
   "metadata": {
    "collapsed": true
   },
   "outputs": [],
   "source": [
    "SCALE = 0.5\n",
    "\n",
    "import scipy.ndimage\n",
    "\n",
    "def process_geotiff(file_path, scale=SCALE):\n",
    "    \n",
    "    # load means & stds\n",
    "    mean_r = np.load('./out/mean_r_sub.npy')\n",
    "    std_r = np.load('./out/std_r_sub.npy').tolist()\n",
    "    mean_g = np.load('./out/mean_g_sub.npy')\n",
    "    std_g = np.load('./out/std_g_sub.npy').tolist()\n",
    "    mean_b = np.load('./out/mean_b_sub.npy')\n",
    "    std_b = np.load('./out/std_b_sub.npy').tolist()\n",
    "    mean_nir = np.load('./out/mean_nir_sub.npy')\n",
    "    std_nir = np.load('./out/std_nir_sub.npy').tolist()\n",
    "    \n",
    "    (fid, _) = os.path.basename(file_path).split('.')\n",
    "    d = read_geotiff(file_path)\n",
    "    \n",
    "    r = (d[:, :, 0] - mean_r) / std_r\n",
    "    g = (d[:, :, 1] - mean_g) / std_g\n",
    "    b = (d[:, :, 2] - mean_b) / std_b\n",
    "    nir = (d[:,:,3] - mean_nir) / std_nir\n",
    "    \n",
    "    if 1. != scale:\n",
    "        r = scipy.ndimage.zoom(r, scale, order=3)\n",
    "        g = scipy.ndimage.zoom(g, scale, order=3)\n",
    "        b = scipy.ndimage.zoom(b, scale, order=3)\n",
    "        nir = scipy.ndimage.zoom(nir, scale, order=3)\n",
    "    \n",
    "    img = np.dstack((r, g, b, nir)).astype(np.float32)\n",
    "    img.tofile(OUT_DIR + '/' + fid)"
   ]
  },
  {
   "cell_type": "code",
   "execution_count": null,
   "metadata": {},
   "outputs": [],
   "source": [
    "import multiprocessing\n",
    "\n",
    "pool = multiprocessing.Pool(8)\n",
    "pool.map(process_geotiff, all_paths)\n",
    "pool.terminate()\n",
    "pool.close()"
   ]
  },
  {
   "cell_type": "code",
   "execution_count": null,
   "metadata": {
    "collapsed": true
   },
   "outputs": [],
   "source": []
  }
 ],
 "metadata": {
  "kernelspec": {
   "display_name": "Python 3",
   "language": "python",
   "name": "python3"
  },
  "language_info": {
   "codemirror_mode": {
    "name": "ipython",
    "version": 3
   },
   "file_extension": ".py",
   "mimetype": "text/x-python",
   "name": "python",
   "nbconvert_exporter": "python",
   "pygments_lexer": "ipython3",
   "version": "3.5.2"
  }
 },
 "nbformat": 4,
 "nbformat_minor": 2
}
