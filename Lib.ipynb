{
 "cells": [
  {
   "cell_type": "code",
   "execution_count": null,
   "metadata": {
    "collapsed": true
   },
   "outputs": [],
   "source": [
    "# env setup\n",
    "from tqdm import tqdm\n",
    "import numpy as np\n",
    "import pandas as pd\n",
    "\n",
    "import matplotlib.pyplot as plt\n",
    "%matplotlib inline\n",
    "%config InlineBackend.figure_format = 'retina'"
   ]
  },
  {
   "cell_type": "code",
   "execution_count": 26,
   "metadata": {
    "collapsed": true
   },
   "outputs": [],
   "source": [
    "# seed random\n",
    "\n",
    "import numpy as np\n",
    "import random\n",
    "\n",
    "try:\n",
    "    RND\n",
    "except NameError:\n",
    "    RND = 123\n",
    "\n",
    "np.random.seed(RND)\n",
    "random.seed(RND)"
   ]
  },
  {
   "cell_type": "code",
   "execution_count": 14,
   "metadata": {
    "collapsed": true
   },
   "outputs": [],
   "source": [
    "# create output dir\n",
    "try:\n",
    "    if not os.path.isdir(OUT_DIR): os.makedirs(OUT_DIR)\n",
    "except NameError:\n",
    "    pass"
   ]
  },
  {
   "cell_type": "code",
   "execution_count": null,
   "metadata": {
    "collapsed": true
   },
   "outputs": [],
   "source": [
    "# create tensorboard logs dir\n",
    "try:\n",
    "    if not os.path.isdir(TENSORBOARD_DIR): os.makedirs(TENSORBOARD_DIR)\n",
    "except NameError:\n",
    "    pass"
   ]
  },
  {
   "cell_type": "code",
   "execution_count": 1,
   "metadata": {
    "collapsed": true
   },
   "outputs": [],
   "source": [
    "# create models checkpoint dir\n",
    "try:\n",
    "    if not os.path.isdir(MODEL_CHECKPOINT_DIR): os.makedirs(MODEL_CHECKPOINT_DIR)\n",
    "except NameError:\n",
    "    pass"
   ]
  },
  {
   "cell_type": "code",
   "execution_count": 2,
   "metadata": {
    "collapsed": true
   },
   "outputs": [],
   "source": [
    "# reading geotiff\n",
    "\n",
    "import rasterio, warnings, numpy as np\n",
    "\n",
    "def read_geotiff(path):\n",
    "    with warnings.catch_warnings():\n",
    "        warnings.simplefilter(\"ignore\")\n",
    "\n",
    "        with rasterio.open(path) as src:\n",
    "            b, g, r, nir = src.read()\n",
    "            return np.dstack([r, g, b, nir])"
   ]
  },
  {
   "cell_type": "code",
   "execution_count": null,
   "metadata": {
    "collapsed": true
   },
   "outputs": [],
   "source": [
    "# list files in directory\n",
    "\n",
    "import os\n",
    "\n",
    "def list_files(src_dir):\n",
    "    f = []\n",
    "    for (dirpath, dirnames, filenames) in os.walk(src_dir):\n",
    "        f.extend(filenames)\n",
    "    return f"
   ]
  },
  {
   "cell_type": "code",
   "execution_count": null,
   "metadata": {
    "collapsed": true
   },
   "outputs": [],
   "source": [
    "# display model as svg\n",
    "def model_as_svg(model):\n",
    "    from IPython.display import SVG\n",
    "    from keras.utils.vis_utils import model_to_dot\n",
    "    return SVG(model_to_dot(model, show_shapes=True).create(prog='dot', format='svg'))"
   ]
  },
  {
   "cell_type": "code",
   "execution_count": 2,
   "metadata": {
    "collapsed": true
   },
   "outputs": [],
   "source": [
    "# data generation\n",
    "def generate_batch(n_samples,\n",
    "                   batch_index,\n",
    "                   X_files,\n",
    "                   Y_tags_misc,\n",
    "                   Y_tags_weather,\n",
    "                   images_dir,\n",
    "                   image_shape):\n",
    "\n",
    "    Xs = np.zeros((n_samples, *image_shape), dtype=np.float32)\n",
    "\n",
    "    batches_in_X = int(len(X_files) / n_samples)\n",
    "    batch_index %= batches_in_X\n",
    "\n",
    "    X_files_batch = X_files[batch_index * n_samples:\n",
    "                            batch_index * n_samples + n_samples]\n",
    "    i = 0\n",
    "    for f in X_files_batch:\n",
    "        Xs[i] = np.fromfile(\n",
    "            images_dir + '/' + f, dtype=np.float32).reshape(image_shape)\n",
    "        i += 1\n",
    "        \n",
    "    if Y_tags_misc is None or Y_tags_weather is None:\n",
    "        \n",
    "        return Xs\n",
    "        \n",
    "    else:\n",
    "\n",
    "        Y_tags_misc_batch = Y_tags_misc[batch_index * n_samples:\n",
    "                                        batch_index * n_samples + n_samples]\n",
    "\n",
    "        Y_tags_weather_batch = Y_tags_weather[batch_index * n_samples:\n",
    "                                              batch_index * n_samples + n_samples]\n",
    "\n",
    "        return (Xs, {\n",
    "            'tags_misc': Y_tags_misc_batch,\n",
    "            'tags_weather': Y_tags_weather_batch\n",
    "        })"
   ]
  },
  {
   "cell_type": "code",
   "execution_count": null,
   "metadata": {
    "collapsed": true
   },
   "outputs": [],
   "source": []
  }
 ],
 "metadata": {
  "kernelspec": {
   "display_name": "Python 3",
   "language": "python",
   "name": "python3"
  },
  "language_info": {
   "codemirror_mode": {
    "name": "ipython",
    "version": 3
   },
   "file_extension": ".py",
   "mimetype": "text/x-python",
   "name": "python",
   "nbconvert_exporter": "python",
   "pygments_lexer": "ipython3",
   "version": "3.5.2"
  }
 },
 "nbformat": 4,
 "nbformat_minor": 2
}
