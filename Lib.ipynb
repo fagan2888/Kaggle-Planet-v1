{
 "cells": [
  {
   "cell_type": "code",
   "execution_count": null,
   "metadata": {
    "collapsed": true
   },
   "outputs": [],
   "source": [
    "# env setup\n",
    "from tqdm import tqdm\n",
    "import numpy as np\n",
    "import pandas as pd\n",
    "\n",
    "import matplotlib.pyplot as plt\n",
    "%matplotlib inline\n",
    "%config InlineBackend.figure_format = 'retina'"
   ]
  },
  {
   "cell_type": "code",
   "execution_count": 26,
   "metadata": {
    "collapsed": true
   },
   "outputs": [],
   "source": [
    "# seed random\n",
    "\n",
    "import numpy as np\n",
    "import random\n",
    "\n",
    "try:\n",
    "    RND\n",
    "except NameError:\n",
    "    RND = 123\n",
    "\n",
    "np.random.seed(RND)\n",
    "random.seed(RND)"
   ]
  },
  {
   "cell_type": "code",
   "execution_count": 14,
   "metadata": {
    "collapsed": true
   },
   "outputs": [],
   "source": [
    "# create output dir\n",
    "try:\n",
    "    if not os.path.isdir(OUT_DIR): os.makedirs(OUT_DIR)\n",
    "except NameError:\n",
    "    pass"
   ]
  },
  {
   "cell_type": "code",
   "execution_count": null,
   "metadata": {
    "collapsed": true
   },
   "outputs": [],
   "source": [
    "# create tensorboard logs dir\n",
    "try:\n",
    "    if not os.path.isdir(TENSORBOARD_DIR): \n",
    "        os.makedirs(TENSORBOARD_DIR)\n",
    "        print('Created ', TENSORBOARD_DIR)\n",
    "except NameError:\n",
    "    pass"
   ]
  },
  {
   "cell_type": "code",
   "execution_count": 1,
   "metadata": {
    "collapsed": true
   },
   "outputs": [],
   "source": [
    "# create models checkpoint dir\n",
    "try:\n",
    "    if not os.path.isdir(MODEL_CHECKPOINT_DIR):\n",
    "        os.makedirs(MODEL_CHECKPOINT_DIR)\n",
    "        print('Created ', MODEL_CHECKPOINT_DIR)\n",
    "except NameError:\n",
    "    print('MODEL_CHECKPOINT_DIR not defined ')\n",
    "    pass"
   ]
  },
  {
   "cell_type": "code",
   "execution_count": 2,
   "metadata": {
    "collapsed": true
   },
   "outputs": [],
   "source": [
    "# reading geotiff\n",
    "\n",
    "import rasterio, warnings, numpy as np\n",
    "\n",
    "def read_geotiff(path):\n",
    "    with warnings.catch_warnings():\n",
    "        warnings.simplefilter(\"ignore\")\n",
    "\n",
    "        with rasterio.open(path) as src:\n",
    "            b, g, r, nir = src.read()\n",
    "            return np.dstack([r, g, b, nir])"
   ]
  },
  {
   "cell_type": "code",
   "execution_count": null,
   "metadata": {
    "collapsed": true
   },
   "outputs": [],
   "source": [
    "# list files in directory\n",
    "\n",
    "import os\n",
    "\n",
    "def list_files(src_dir):\n",
    "    f = []\n",
    "    for (dirpath, dirnames, filenames) in os.walk(src_dir):\n",
    "        f.extend(filenames)\n",
    "        break\n",
    "    return f"
   ]
  },
  {
   "cell_type": "code",
   "execution_count": null,
   "metadata": {
    "collapsed": true
   },
   "outputs": [],
   "source": [
    "# display model as svg\n",
    "def model_as_svg(model):\n",
    "    from IPython.display import SVG\n",
    "    from keras.utils.vis_utils import model_to_dot\n",
    "    return SVG(model_to_dot(model, show_shapes=True).create(prog='dot', format='svg'))"
   ]
  },
  {
   "cell_type": "code",
   "execution_count": 2,
   "metadata": {
    "collapsed": true
   },
   "outputs": [],
   "source": [
    "# data generation\n",
    "def generate_batch(n_samples,\n",
    "                   batch_index,\n",
    "                   X_files,\n",
    "                   Y_tags_misc,\n",
    "                   Y_tags_weather,\n",
    "                   images_dir,\n",
    "                   image_shape):\n",
    "\n",
    "    Xs = np.zeros((n_samples, *image_shape), dtype=np.float32)\n",
    "\n",
    "    batches_in_X = int(len(X_files) / n_samples)\n",
    "    batch_index %= batches_in_X\n",
    "    \n",
    "    X_files_batch = X_files[batch_index * n_samples:\n",
    "                            batch_index * n_samples + n_samples]\n",
    "    i = 0\n",
    "    for f in X_files_batch:\n",
    "        Xs[i] = np.fromfile(\n",
    "            images_dir + '/' + f, dtype=np.float32).reshape(image_shape)\n",
    "        i += 1\n",
    "        \n",
    "    if Y_tags_misc is None or Y_tags_weather is None:\n",
    "        \n",
    "        return Xs\n",
    "        \n",
    "    else:\n",
    "\n",
    "        Y_tags_misc_batch = Y_tags_misc[batch_index * n_samples:\n",
    "                                        batch_index * n_samples + n_samples]\n",
    "\n",
    "        Y_tags_weather_batch = Y_tags_weather[batch_index * n_samples:\n",
    "                                              batch_index * n_samples + n_samples]\n",
    "\n",
    "        return (Xs, {\n",
    "            'tags_misc': Y_tags_misc_batch,\n",
    "            'tags_weather': Y_tags_weather_batch\n",
    "        })"
   ]
  },
  {
   "cell_type": "code",
   "execution_count": null,
   "metadata": {
    "collapsed": true
   },
   "outputs": [],
   "source": [
    "# data generation\n",
    "\n",
    "# 0 agriculture\n",
    "# 1 artisinal_mine\n",
    "# 2 bare_ground\n",
    "# 3 blooming\n",
    "# 4 blow_down\n",
    "# 5 conventional_mine\n",
    "# 6 cultivation\n",
    "# 7 habitation\n",
    "# 8 primary\n",
    "# 9 road\n",
    "# 10 selective_logging\n",
    "# 11 slash_burn\n",
    "# 12 water\n",
    "\n",
    "\n",
    "def generate_batch_2(n_samples, batch_index, X_files, Y_tags_agriculture=None,\n",
    "                     Y_tags_artisinal_mine=None, Y_tags_bare_ground=None,\n",
    "                     Y_tags_blooming=None, Y_tags_blow_down=None,\n",
    "                     Y_tags_conventional_mine=None, Y_tags_cultivation=None,\n",
    "                     Y_tags_habitation=None, Y_tags_primary=None, Y_tags_road=None,\n",
    "                     Y_tags_selective_logging=None, Y_tags_slash_burn=None, Y_tags_water=None,\n",
    "                     Y_tags_weather=None, images_dir=None, image_shape=None):\n",
    "\n",
    "    Xs = np.zeros((n_samples, *image_shape), dtype=np.float32)\n",
    "\n",
    "    batches_in_X = int(len(X_files) / n_samples)\n",
    "    batch_index %= batches_in_X\n",
    "\n",
    "    i1 = batch_index * n_samples\n",
    "    i2 = i1 + n_samples\n",
    "\n",
    "    X_files_batch = X_files[i1:i2]\n",
    "    i = 0\n",
    "    for f in X_files_batch:\n",
    "        Xs[i] = np.fromfile(\n",
    "            images_dir + '/' + f, dtype=np.float32).reshape(image_shape)\n",
    "        i += 1\n",
    "\n",
    "    if Y_tags_agriculture is None:\n",
    "\n",
    "        return Xs\n",
    "\n",
    "    else:\n",
    "\n",
    "        Y_tags_agriculture_batch = Y_tags_agriculture[i1:i2]\n",
    "        Y_tags_artisinal_mine_batch = Y_tags_artisinal_mine[i1:i2]\n",
    "        Y_tags_bare_ground_batch = Y_tags_bare_ground[i1:i2]\n",
    "        Y_tags_blooming_batch = Y_tags_blooming[i1:i2]\n",
    "        Y_tags_blow_down_batch = Y_tags_blow_down[i1:i2]\n",
    "        Y_tags_conventional_mine_batch = Y_tags_conventional_mine[i1:i2]\n",
    "        Y_tags_cultivation_batch = Y_tags_cultivation[i1:i2]\n",
    "        Y_tags_habitation_batch = Y_tags_habitation[i1:i2]\n",
    "        Y_tags_primary_batch = Y_tags_primary[i1:i2]\n",
    "        Y_tags_road_batch = Y_tags_road[i1:i2]\n",
    "        Y_tags_selective_logging_batch = Y_tags_selective_logging[i1:i2]\n",
    "        Y_tags_slash_burn_batch = Y_tags_slash_burn[i1:i2]\n",
    "        Y_tags_water_batch = Y_tags_water[i1:i2]\n",
    "        Y_tags_weather_batch = Y_tags_weather[i1:i2]\n",
    "\n",
    "        return (Xs, {\n",
    "            'agriculture': Y_tags_agriculture_batch,\n",
    "            'artisinal_mine': Y_tags_artisinal_mine_batch,\n",
    "            'bare_ground': Y_tags_bare_ground_batch,\n",
    "            'blooming': Y_tags_blooming_batch,\n",
    "            'blow_down': Y_tags_blow_down_batch,\n",
    "            'conventional_mine': Y_tags_conventional_mine_batch,\n",
    "            'cultivation': Y_tags_cultivation_batch,\n",
    "            'habitation': Y_tags_habitation_batch,\n",
    "            'primary': Y_tags_primary_batch,\n",
    "            'road': Y_tags_road_batch,\n",
    "            'selective_logging': Y_tags_selective_logging_batch,\n",
    "            'slash_burn': Y_tags_slash_burn_batch,\n",
    "            'water': Y_tags_water_batch,\n",
    "            'weather': Y_tags_weather_batch\n",
    "        })"
   ]
  }
 ],
 "metadata": {
  "kernelspec": {
   "display_name": "Python 3",
   "language": "python",
   "name": "python3"
  },
  "language_info": {
   "codemirror_mode": {
    "name": "ipython",
    "version": 3
   },
   "file_extension": ".py",
   "mimetype": "text/x-python",
   "name": "python",
   "nbconvert_exporter": "python",
   "pygments_lexer": "ipython3",
   "version": "3.5.2"
  }
 },
 "nbformat": 4,
 "nbformat_minor": 2
}
