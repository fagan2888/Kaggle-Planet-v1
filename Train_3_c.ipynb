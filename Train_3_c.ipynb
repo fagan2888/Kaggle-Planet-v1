{
 "cells": [
  {
   "cell_type": "markdown",
   "metadata": {},
   "source": [
    "### + random transforms\n",
    "### + thread-safe gens"
   ]
  },
  {
   "cell_type": "code",
   "execution_count": 1,
   "metadata": {
    "collapsed": true
   },
   "outputs": [],
   "source": [
    "RUN = 'D'\n",
    "RND = 777"
   ]
  },
  {
   "cell_type": "code",
   "execution_count": 31,
   "metadata": {
    "collapsed": true
   },
   "outputs": [],
   "source": [
    "IMAGES_DIR = '/d2/caches/kaggle-planet/processed-images-64x64'\n",
    "IMAGE_SHAPE = (64, 64, 4)\n",
    "\n",
    "TRAIN_BATCH_SIZE = 53\n",
    "TRAIN_EPOCHS = 100\n",
    "\n",
    "VAL_SPLIT = 0.2\n",
    "\n",
    "VAL_BATCH_SIZE = 16\n",
    "\n",
    "TENSORBOARD_DIR = '/tensorboard/planet/' + RUN\n",
    "MODEL_CHECKPOINT_DIR = '/d2/caches/kaggle-planet/models/' + RUN"
   ]
  },
  {
   "cell_type": "code",
   "execution_count": 3,
   "metadata": {},
   "outputs": [
    {
     "name": "stdout",
     "output_type": "stream",
     "text": [
      "MODEL_CHECKPOINT_DIR not defined \n"
     ]
    },
    {
     "name": "stderr",
     "output_type": "stream",
     "text": [
      "Using TensorFlow backend.\n"
     ]
    }
   ],
   "source": [
    "%run 'Lib.ipynb'"
   ]
  },
  {
   "cell_type": "code",
   "execution_count": 4,
   "metadata": {
    "collapsed": true
   },
   "outputs": [],
   "source": [
    "import keras\n",
    "from keras.layers import *\n",
    "from keras.applications import *\n",
    "from keras.models import *\n",
    "from keras.callbacks import *"
   ]
  },
  {
   "cell_type": "code",
   "execution_count": null,
   "metadata": {
    "collapsed": true
   },
   "outputs": [],
   "source": []
  },
  {
   "cell_type": "code",
   "execution_count": 5,
   "metadata": {
    "collapsed": true
   },
   "outputs": [],
   "source": [
    "# load data\n",
    "X_files = np.load('out/X_files.npy')\n",
    "Y_tags_misc = np.load('out/Y_tags_misc.npy')\n",
    "Y_tags_weather = np.load('out/Y_tags_weather.npy')"
   ]
  },
  {
   "cell_type": "code",
   "execution_count": 6,
   "metadata": {
    "collapsed": true
   },
   "outputs": [],
   "source": [
    "# split data into tran/val sets\n",
    "from sklearn.model_selection import train_test_split\n",
    "\n",
    "X_files_train, X_files_val, \\\n",
    "Y_tags_misc_train, Y_tags_misc_val, \\\n",
    "Y_tags_weather_train, Y_tags_weather_val = \\\n",
    "train_test_split(\n",
    "    X_files,\n",
    "    Y_tags_misc,\n",
    "    Y_tags_weather,\n",
    "    test_size=VAL_SPLIT,\n",
    "    random_state=RND)"
   ]
  },
  {
   "cell_type": "code",
   "execution_count": 7,
   "metadata": {},
   "outputs": [
    {
     "name": "stdout",
     "output_type": "stream",
     "text": [
      "Samples per epoch (train): 32383 of 32383\n"
     ]
    }
   ],
   "source": [
    "# calculate samples per epoch so that epoch can consist of integer number of batches\n",
    "TRAIN_SAMPLES_PER_EPOCH = int(len(X_files_train) / TRAIN_BATCH_SIZE) * TRAIN_BATCH_SIZE\n",
    "print ('Samples per epoch (train):', TRAIN_SAMPLES_PER_EPOCH, 'of', len(X_files_train))"
   ]
  },
  {
   "cell_type": "code",
   "execution_count": 8,
   "metadata": {},
   "outputs": [
    {
     "name": "stdout",
     "output_type": "stream",
     "text": [
      "Samples per epoch (val): 8096 of 8096\n"
     ]
    }
   ],
   "source": [
    "# calculate samples per epoch so that epoch can consist of integer number of batches\n",
    "VAL_SAMPLES_PER_EPOCH = int(len(X_files_val) / VAL_BATCH_SIZE) * VAL_BATCH_SIZE\n",
    "print ('Samples per epoch (val):', VAL_SAMPLES_PER_EPOCH, 'of', len(X_files_val))"
   ]
  },
  {
   "cell_type": "code",
   "execution_count": 9,
   "metadata": {
    "collapsed": true
   },
   "outputs": [],
   "source": [
    "# define model\n",
    "image_input = Input(shape=IMAGE_SHAPE, name='image_input')\n",
    "\n",
    "x = Conv2D(32, (3, 3), padding='same')(image_input)\n",
    "x = Conv2D(32, (3, 3), padding='same')(x)\n",
    "x = MaxPool2D(pool_size=2)(x)\n",
    "\n",
    "x = Conv2D(64, (3, 3), padding='same')(x)\n",
    "x = Conv2D(64, (3, 3), padding='same')(x)\n",
    "x = MaxPool2D(pool_size=2)(x)\n",
    "\n",
    "x = Conv2D(128, (3, 3), padding='same')(x)\n",
    "x = Conv2D(128, (3, 3), padding='same')(x)\n",
    "x = MaxPool2D(pool_size=2)(x)\n",
    "\n",
    "x = Conv2D(256, (3, 3), padding='same')(x)\n",
    "x = Conv2D(256, (3, 3), padding='same')(x)\n",
    "x = MaxPool2D(pool_size=2)(x)\n",
    "\n",
    "x = Flatten()(x)\n",
    "features = Dropout(rate=0.5)(x)\n",
    "\n",
    "out_tags_misc = Dense(Y_tags_misc.shape[1], activation='sigmoid', name='tags_misc')(features)\n",
    "out_tags_weather = Dense(Y_tags_weather.shape[1], activation='softmax', name='tags_weather')(features)\n",
    "\n",
    "model = Model(inputs=[image_input], outputs=[out_tags_misc, out_tags_weather])"
   ]
  },
  {
   "cell_type": "code",
   "execution_count": 10,
   "metadata": {},
   "outputs": [
    {
     "name": "stdout",
     "output_type": "stream",
     "text": [
      "____________________________________________________________________________________________________\n",
      "Layer (type)                     Output Shape          Param #     Connected to                     \n",
      "====================================================================================================\n",
      "image_input (InputLayer)         (None, 64, 64, 4)     0                                            \n",
      "____________________________________________________________________________________________________\n",
      "conv2d_1 (Conv2D)                (None, 64, 64, 32)    1184        image_input[0][0]                \n",
      "____________________________________________________________________________________________________\n",
      "conv2d_2 (Conv2D)                (None, 64, 64, 32)    9248        conv2d_1[0][0]                   \n",
      "____________________________________________________________________________________________________\n",
      "max_pooling2d_1 (MaxPooling2D)   (None, 32, 32, 32)    0           conv2d_2[0][0]                   \n",
      "____________________________________________________________________________________________________\n",
      "conv2d_3 (Conv2D)                (None, 32, 32, 64)    18496       max_pooling2d_1[0][0]            \n",
      "____________________________________________________________________________________________________\n",
      "conv2d_4 (Conv2D)                (None, 32, 32, 64)    36928       conv2d_3[0][0]                   \n",
      "____________________________________________________________________________________________________\n",
      "max_pooling2d_2 (MaxPooling2D)   (None, 16, 16, 64)    0           conv2d_4[0][0]                   \n",
      "____________________________________________________________________________________________________\n",
      "conv2d_5 (Conv2D)                (None, 16, 16, 128)   73856       max_pooling2d_2[0][0]            \n",
      "____________________________________________________________________________________________________\n",
      "conv2d_6 (Conv2D)                (None, 16, 16, 128)   147584      conv2d_5[0][0]                   \n",
      "____________________________________________________________________________________________________\n",
      "max_pooling2d_3 (MaxPooling2D)   (None, 8, 8, 128)     0           conv2d_6[0][0]                   \n",
      "____________________________________________________________________________________________________\n",
      "conv2d_7 (Conv2D)                (None, 8, 8, 256)     295168      max_pooling2d_3[0][0]            \n",
      "____________________________________________________________________________________________________\n",
      "conv2d_8 (Conv2D)                (None, 8, 8, 256)     590080      conv2d_7[0][0]                   \n",
      "____________________________________________________________________________________________________\n",
      "max_pooling2d_4 (MaxPooling2D)   (None, 4, 4, 256)     0           conv2d_8[0][0]                   \n",
      "____________________________________________________________________________________________________\n",
      "flatten_1 (Flatten)              (None, 4096)          0           max_pooling2d_4[0][0]            \n",
      "____________________________________________________________________________________________________\n",
      "dropout_1 (Dropout)              (None, 4096)          0           flatten_1[0][0]                  \n",
      "____________________________________________________________________________________________________\n",
      "tags_misc (Dense)                (None, 13)            53261       dropout_1[0][0]                  \n",
      "____________________________________________________________________________________________________\n",
      "tags_weather (Dense)             (None, 5)             20485       dropout_1[0][0]                  \n",
      "====================================================================================================\n",
      "Total params: 1,246,290\n",
      "Trainable params: 1,246,290\n",
      "Non-trainable params: 0\n",
      "____________________________________________________________________________________________________\n"
     ]
    }
   ],
   "source": [
    "model.summary()"
   ]
  },
  {
   "cell_type": "code",
   "execution_count": 11,
   "metadata": {},
   "outputs": [
    {
     "data": {
      "image/svg+xml": [
       "<svg height=\"1300pt\" viewBox=\"0.00 0.00 556.00 1300.00\" width=\"556pt\" xmlns=\"http://www.w3.org/2000/svg\" xmlns:xlink=\"http://www.w3.org/1999/xlink\">\n",
       "<g class=\"graph\" id=\"graph0\" transform=\"scale(1 1) rotate(0) translate(4 1296)\">\n",
       "<title>G</title>\n",
       "<polygon fill=\"white\" points=\"-4,4 -4,-1296 552,-1296 552,4 -4,4\" stroke=\"none\"/>\n",
       "<!-- 139848582331696 -->\n",
       "<g class=\"node\" id=\"node1\"><title>139848582331696</title>\n",
       "<polygon fill=\"none\" points=\"110.5,-1245.5 110.5,-1291.5 428.5,-1291.5 428.5,-1245.5 110.5,-1245.5\" stroke=\"black\"/>\n",
       "<text font-family=\"Times,serif\" font-size=\"14.00\" text-anchor=\"middle\" x=\"186.5\" y=\"-1264.8\">image_input: InputLayer</text>\n",
       "<polyline fill=\"none\" points=\"262.5,-1245.5 262.5,-1291.5 \" stroke=\"black\"/>\n",
       "<text font-family=\"Times,serif\" font-size=\"14.00\" text-anchor=\"middle\" x=\"290\" y=\"-1276.3\">input:</text>\n",
       "<polyline fill=\"none\" points=\"262.5,-1268.5 317.5,-1268.5 \" stroke=\"black\"/>\n",
       "<text font-family=\"Times,serif\" font-size=\"14.00\" text-anchor=\"middle\" x=\"290\" y=\"-1253.3\">output:</text>\n",
       "<polyline fill=\"none\" points=\"317.5,-1245.5 317.5,-1291.5 \" stroke=\"black\"/>\n",
       "<text font-family=\"Times,serif\" font-size=\"14.00\" text-anchor=\"middle\" x=\"373\" y=\"-1276.3\">(None, 64, 64, 4)</text>\n",
       "<polyline fill=\"none\" points=\"317.5,-1268.5 428.5,-1268.5 \" stroke=\"black\"/>\n",
       "<text font-family=\"Times,serif\" font-size=\"14.00\" text-anchor=\"middle\" x=\"373\" y=\"-1253.3\">(None, 64, 64, 4)</text>\n",
       "</g>\n",
       "<!-- 139848582331640 -->\n",
       "<g class=\"node\" id=\"node2\"><title>139848582331640</title>\n",
       "<polygon fill=\"none\" points=\"121.5,-1162.5 121.5,-1208.5 417.5,-1208.5 417.5,-1162.5 121.5,-1162.5\" stroke=\"black\"/>\n",
       "<text font-family=\"Times,serif\" font-size=\"14.00\" text-anchor=\"middle\" x=\"183\" y=\"-1181.8\">conv2d_1: Conv2D</text>\n",
       "<polyline fill=\"none\" points=\"244.5,-1162.5 244.5,-1208.5 \" stroke=\"black\"/>\n",
       "<text font-family=\"Times,serif\" font-size=\"14.00\" text-anchor=\"middle\" x=\"272\" y=\"-1193.3\">input:</text>\n",
       "<polyline fill=\"none\" points=\"244.5,-1185.5 299.5,-1185.5 \" stroke=\"black\"/>\n",
       "<text font-family=\"Times,serif\" font-size=\"14.00\" text-anchor=\"middle\" x=\"272\" y=\"-1170.3\">output:</text>\n",
       "<polyline fill=\"none\" points=\"299.5,-1162.5 299.5,-1208.5 \" stroke=\"black\"/>\n",
       "<text font-family=\"Times,serif\" font-size=\"14.00\" text-anchor=\"middle\" x=\"358.5\" y=\"-1193.3\">(None, 64, 64, 4)</text>\n",
       "<polyline fill=\"none\" points=\"299.5,-1185.5 417.5,-1185.5 \" stroke=\"black\"/>\n",
       "<text font-family=\"Times,serif\" font-size=\"14.00\" text-anchor=\"middle\" x=\"358.5\" y=\"-1170.3\">(None, 64, 64, 32)</text>\n",
       "</g>\n",
       "<!-- 139848582331696&#45;&gt;139848582331640 -->\n",
       "<g class=\"edge\" id=\"edge1\"><title>139848582331696-&gt;139848582331640</title>\n",
       "<path d=\"M269.5,-1245.37C269.5,-1237.15 269.5,-1227.66 269.5,-1218.73\" fill=\"none\" stroke=\"black\"/>\n",
       "<polygon fill=\"black\" points=\"273,-1218.61 269.5,-1208.61 266,-1218.61 273,-1218.61\" stroke=\"black\"/>\n",
       "</g>\n",
       "<!-- 139848582331808 -->\n",
       "<g class=\"node\" id=\"node3\"><title>139848582331808</title>\n",
       "<polygon fill=\"none\" points=\"121.5,-1079.5 121.5,-1125.5 417.5,-1125.5 417.5,-1079.5 121.5,-1079.5\" stroke=\"black\"/>\n",
       "<text font-family=\"Times,serif\" font-size=\"14.00\" text-anchor=\"middle\" x=\"183\" y=\"-1098.8\">conv2d_2: Conv2D</text>\n",
       "<polyline fill=\"none\" points=\"244.5,-1079.5 244.5,-1125.5 \" stroke=\"black\"/>\n",
       "<text font-family=\"Times,serif\" font-size=\"14.00\" text-anchor=\"middle\" x=\"272\" y=\"-1110.3\">input:</text>\n",
       "<polyline fill=\"none\" points=\"244.5,-1102.5 299.5,-1102.5 \" stroke=\"black\"/>\n",
       "<text font-family=\"Times,serif\" font-size=\"14.00\" text-anchor=\"middle\" x=\"272\" y=\"-1087.3\">output:</text>\n",
       "<polyline fill=\"none\" points=\"299.5,-1079.5 299.5,-1125.5 \" stroke=\"black\"/>\n",
       "<text font-family=\"Times,serif\" font-size=\"14.00\" text-anchor=\"middle\" x=\"358.5\" y=\"-1110.3\">(None, 64, 64, 32)</text>\n",
       "<polyline fill=\"none\" points=\"299.5,-1102.5 417.5,-1102.5 \" stroke=\"black\"/>\n",
       "<text font-family=\"Times,serif\" font-size=\"14.00\" text-anchor=\"middle\" x=\"358.5\" y=\"-1087.3\">(None, 64, 64, 32)</text>\n",
       "</g>\n",
       "<!-- 139848582331640&#45;&gt;139848582331808 -->\n",
       "<g class=\"edge\" id=\"edge2\"><title>139848582331640-&gt;139848582331808</title>\n",
       "<path d=\"M269.5,-1162.37C269.5,-1154.15 269.5,-1144.66 269.5,-1135.73\" fill=\"none\" stroke=\"black\"/>\n",
       "<polygon fill=\"black\" points=\"273,-1135.61 269.5,-1125.61 266,-1135.61 273,-1135.61\" stroke=\"black\"/>\n",
       "</g>\n",
       "<!-- 139848582332200 -->\n",
       "<g class=\"node\" id=\"node4\"><title>139848582332200</title>\n",
       "<polygon fill=\"none\" points=\"79.5,-996.5 79.5,-1042.5 459.5,-1042.5 459.5,-996.5 79.5,-996.5\" stroke=\"black\"/>\n",
       "<text font-family=\"Times,serif\" font-size=\"14.00\" text-anchor=\"middle\" x=\"183\" y=\"-1015.8\">max_pooling2d_1: MaxPooling2D</text>\n",
       "<polyline fill=\"none\" points=\"286.5,-996.5 286.5,-1042.5 \" stroke=\"black\"/>\n",
       "<text font-family=\"Times,serif\" font-size=\"14.00\" text-anchor=\"middle\" x=\"314\" y=\"-1027.3\">input:</text>\n",
       "<polyline fill=\"none\" points=\"286.5,-1019.5 341.5,-1019.5 \" stroke=\"black\"/>\n",
       "<text font-family=\"Times,serif\" font-size=\"14.00\" text-anchor=\"middle\" x=\"314\" y=\"-1004.3\">output:</text>\n",
       "<polyline fill=\"none\" points=\"341.5,-996.5 341.5,-1042.5 \" stroke=\"black\"/>\n",
       "<text font-family=\"Times,serif\" font-size=\"14.00\" text-anchor=\"middle\" x=\"400.5\" y=\"-1027.3\">(None, 64, 64, 32)</text>\n",
       "<polyline fill=\"none\" points=\"341.5,-1019.5 459.5,-1019.5 \" stroke=\"black\"/>\n",
       "<text font-family=\"Times,serif\" font-size=\"14.00\" text-anchor=\"middle\" x=\"400.5\" y=\"-1004.3\">(None, 32, 32, 32)</text>\n",
       "</g>\n",
       "<!-- 139848582331808&#45;&gt;139848582332200 -->\n",
       "<g class=\"edge\" id=\"edge3\"><title>139848582331808-&gt;139848582332200</title>\n",
       "<path d=\"M269.5,-1079.37C269.5,-1071.15 269.5,-1061.66 269.5,-1052.73\" fill=\"none\" stroke=\"black\"/>\n",
       "<polygon fill=\"black\" points=\"273,-1052.61 269.5,-1042.61 266,-1052.61 273,-1052.61\" stroke=\"black\"/>\n",
       "</g>\n",
       "<!-- 139848582426752 -->\n",
       "<g class=\"node\" id=\"node5\"><title>139848582426752</title>\n",
       "<polygon fill=\"none\" points=\"121.5,-913.5 121.5,-959.5 417.5,-959.5 417.5,-913.5 121.5,-913.5\" stroke=\"black\"/>\n",
       "<text font-family=\"Times,serif\" font-size=\"14.00\" text-anchor=\"middle\" x=\"183\" y=\"-932.8\">conv2d_3: Conv2D</text>\n",
       "<polyline fill=\"none\" points=\"244.5,-913.5 244.5,-959.5 \" stroke=\"black\"/>\n",
       "<text font-family=\"Times,serif\" font-size=\"14.00\" text-anchor=\"middle\" x=\"272\" y=\"-944.3\">input:</text>\n",
       "<polyline fill=\"none\" points=\"244.5,-936.5 299.5,-936.5 \" stroke=\"black\"/>\n",
       "<text font-family=\"Times,serif\" font-size=\"14.00\" text-anchor=\"middle\" x=\"272\" y=\"-921.3\">output:</text>\n",
       "<polyline fill=\"none\" points=\"299.5,-913.5 299.5,-959.5 \" stroke=\"black\"/>\n",
       "<text font-family=\"Times,serif\" font-size=\"14.00\" text-anchor=\"middle\" x=\"358.5\" y=\"-944.3\">(None, 32, 32, 32)</text>\n",
       "<polyline fill=\"none\" points=\"299.5,-936.5 417.5,-936.5 \" stroke=\"black\"/>\n",
       "<text font-family=\"Times,serif\" font-size=\"14.00\" text-anchor=\"middle\" x=\"358.5\" y=\"-921.3\">(None, 32, 32, 64)</text>\n",
       "</g>\n",
       "<!-- 139848582332200&#45;&gt;139848582426752 -->\n",
       "<g class=\"edge\" id=\"edge4\"><title>139848582332200-&gt;139848582426752</title>\n",
       "<path d=\"M269.5,-996.366C269.5,-988.152 269.5,-978.658 269.5,-969.725\" fill=\"none\" stroke=\"black\"/>\n",
       "<polygon fill=\"black\" points=\"273,-969.607 269.5,-959.607 266,-969.607 273,-969.607\" stroke=\"black\"/>\n",
       "</g>\n",
       "<!-- 139848582055360 -->\n",
       "<g class=\"node\" id=\"node6\"><title>139848582055360</title>\n",
       "<polygon fill=\"none\" points=\"121.5,-830.5 121.5,-876.5 417.5,-876.5 417.5,-830.5 121.5,-830.5\" stroke=\"black\"/>\n",
       "<text font-family=\"Times,serif\" font-size=\"14.00\" text-anchor=\"middle\" x=\"183\" y=\"-849.8\">conv2d_4: Conv2D</text>\n",
       "<polyline fill=\"none\" points=\"244.5,-830.5 244.5,-876.5 \" stroke=\"black\"/>\n",
       "<text font-family=\"Times,serif\" font-size=\"14.00\" text-anchor=\"middle\" x=\"272\" y=\"-861.3\">input:</text>\n",
       "<polyline fill=\"none\" points=\"244.5,-853.5 299.5,-853.5 \" stroke=\"black\"/>\n",
       "<text font-family=\"Times,serif\" font-size=\"14.00\" text-anchor=\"middle\" x=\"272\" y=\"-838.3\">output:</text>\n",
       "<polyline fill=\"none\" points=\"299.5,-830.5 299.5,-876.5 \" stroke=\"black\"/>\n",
       "<text font-family=\"Times,serif\" font-size=\"14.00\" text-anchor=\"middle\" x=\"358.5\" y=\"-861.3\">(None, 32, 32, 64)</text>\n",
       "<polyline fill=\"none\" points=\"299.5,-853.5 417.5,-853.5 \" stroke=\"black\"/>\n",
       "<text font-family=\"Times,serif\" font-size=\"14.00\" text-anchor=\"middle\" x=\"358.5\" y=\"-838.3\">(None, 32, 32, 64)</text>\n",
       "</g>\n",
       "<!-- 139848582426752&#45;&gt;139848582055360 -->\n",
       "<g class=\"edge\" id=\"edge5\"><title>139848582426752-&gt;139848582055360</title>\n",
       "<path d=\"M269.5,-913.366C269.5,-905.152 269.5,-895.658 269.5,-886.725\" fill=\"none\" stroke=\"black\"/>\n",
       "<polygon fill=\"black\" points=\"273,-886.607 269.5,-876.607 266,-886.607 273,-886.607\" stroke=\"black\"/>\n",
       "</g>\n",
       "<!-- 139848582056200 -->\n",
       "<g class=\"node\" id=\"node7\"><title>139848582056200</title>\n",
       "<polygon fill=\"none\" points=\"79.5,-747.5 79.5,-793.5 459.5,-793.5 459.5,-747.5 79.5,-747.5\" stroke=\"black\"/>\n",
       "<text font-family=\"Times,serif\" font-size=\"14.00\" text-anchor=\"middle\" x=\"183\" y=\"-766.8\">max_pooling2d_2: MaxPooling2D</text>\n",
       "<polyline fill=\"none\" points=\"286.5,-747.5 286.5,-793.5 \" stroke=\"black\"/>\n",
       "<text font-family=\"Times,serif\" font-size=\"14.00\" text-anchor=\"middle\" x=\"314\" y=\"-778.3\">input:</text>\n",
       "<polyline fill=\"none\" points=\"286.5,-770.5 341.5,-770.5 \" stroke=\"black\"/>\n",
       "<text font-family=\"Times,serif\" font-size=\"14.00\" text-anchor=\"middle\" x=\"314\" y=\"-755.3\">output:</text>\n",
       "<polyline fill=\"none\" points=\"341.5,-747.5 341.5,-793.5 \" stroke=\"black\"/>\n",
       "<text font-family=\"Times,serif\" font-size=\"14.00\" text-anchor=\"middle\" x=\"400.5\" y=\"-778.3\">(None, 32, 32, 64)</text>\n",
       "<polyline fill=\"none\" points=\"341.5,-770.5 459.5,-770.5 \" stroke=\"black\"/>\n",
       "<text font-family=\"Times,serif\" font-size=\"14.00\" text-anchor=\"middle\" x=\"400.5\" y=\"-755.3\">(None, 16, 16, 64)</text>\n",
       "</g>\n",
       "<!-- 139848582055360&#45;&gt;139848582056200 -->\n",
       "<g class=\"edge\" id=\"edge6\"><title>139848582055360-&gt;139848582056200</title>\n",
       "<path d=\"M269.5,-830.366C269.5,-822.152 269.5,-812.658 269.5,-803.725\" fill=\"none\" stroke=\"black\"/>\n",
       "<polygon fill=\"black\" points=\"273,-803.607 269.5,-793.607 266,-803.607 273,-803.607\" stroke=\"black\"/>\n",
       "</g>\n",
       "<!-- 139848582196584 -->\n",
       "<g class=\"node\" id=\"node8\"><title>139848582196584</title>\n",
       "<polygon fill=\"none\" points=\"118,-664.5 118,-710.5 421,-710.5 421,-664.5 118,-664.5\" stroke=\"black\"/>\n",
       "<text font-family=\"Times,serif\" font-size=\"14.00\" text-anchor=\"middle\" x=\"179.5\" y=\"-683.8\">conv2d_5: Conv2D</text>\n",
       "<polyline fill=\"none\" points=\"241,-664.5 241,-710.5 \" stroke=\"black\"/>\n",
       "<text font-family=\"Times,serif\" font-size=\"14.00\" text-anchor=\"middle\" x=\"268.5\" y=\"-695.3\">input:</text>\n",
       "<polyline fill=\"none\" points=\"241,-687.5 296,-687.5 \" stroke=\"black\"/>\n",
       "<text font-family=\"Times,serif\" font-size=\"14.00\" text-anchor=\"middle\" x=\"268.5\" y=\"-672.3\">output:</text>\n",
       "<polyline fill=\"none\" points=\"296,-664.5 296,-710.5 \" stroke=\"black\"/>\n",
       "<text font-family=\"Times,serif\" font-size=\"14.00\" text-anchor=\"middle\" x=\"358.5\" y=\"-695.3\">(None, 16, 16, 64)</text>\n",
       "<polyline fill=\"none\" points=\"296,-687.5 421,-687.5 \" stroke=\"black\"/>\n",
       "<text font-family=\"Times,serif\" font-size=\"14.00\" text-anchor=\"middle\" x=\"358.5\" y=\"-672.3\">(None, 16, 16, 128)</text>\n",
       "</g>\n",
       "<!-- 139848582056200&#45;&gt;139848582196584 -->\n",
       "<g class=\"edge\" id=\"edge7\"><title>139848582056200-&gt;139848582196584</title>\n",
       "<path d=\"M269.5,-747.366C269.5,-739.152 269.5,-729.658 269.5,-720.725\" fill=\"none\" stroke=\"black\"/>\n",
       "<polygon fill=\"black\" points=\"273,-720.607 269.5,-710.607 266,-720.607 273,-720.607\" stroke=\"black\"/>\n",
       "</g>\n",
       "<!-- 139848582259544 -->\n",
       "<g class=\"node\" id=\"node9\"><title>139848582259544</title>\n",
       "<polygon fill=\"none\" points=\"118,-581.5 118,-627.5 421,-627.5 421,-581.5 118,-581.5\" stroke=\"black\"/>\n",
       "<text font-family=\"Times,serif\" font-size=\"14.00\" text-anchor=\"middle\" x=\"179.5\" y=\"-600.8\">conv2d_6: Conv2D</text>\n",
       "<polyline fill=\"none\" points=\"241,-581.5 241,-627.5 \" stroke=\"black\"/>\n",
       "<text font-family=\"Times,serif\" font-size=\"14.00\" text-anchor=\"middle\" x=\"268.5\" y=\"-612.3\">input:</text>\n",
       "<polyline fill=\"none\" points=\"241,-604.5 296,-604.5 \" stroke=\"black\"/>\n",
       "<text font-family=\"Times,serif\" font-size=\"14.00\" text-anchor=\"middle\" x=\"268.5\" y=\"-589.3\">output:</text>\n",
       "<polyline fill=\"none\" points=\"296,-581.5 296,-627.5 \" stroke=\"black\"/>\n",
       "<text font-family=\"Times,serif\" font-size=\"14.00\" text-anchor=\"middle\" x=\"358.5\" y=\"-612.3\">(None, 16, 16, 128)</text>\n",
       "<polyline fill=\"none\" points=\"296,-604.5 421,-604.5 \" stroke=\"black\"/>\n",
       "<text font-family=\"Times,serif\" font-size=\"14.00\" text-anchor=\"middle\" x=\"358.5\" y=\"-589.3\">(None, 16, 16, 128)</text>\n",
       "</g>\n",
       "<!-- 139848582196584&#45;&gt;139848582259544 -->\n",
       "<g class=\"edge\" id=\"edge8\"><title>139848582196584-&gt;139848582259544</title>\n",
       "<path d=\"M269.5,-664.366C269.5,-656.152 269.5,-646.658 269.5,-637.725\" fill=\"none\" stroke=\"black\"/>\n",
       "<polygon fill=\"black\" points=\"273,-637.607 269.5,-627.607 266,-637.607 273,-637.607\" stroke=\"black\"/>\n",
       "</g>\n",
       "<!-- 139848581807856 -->\n",
       "<g class=\"node\" id=\"node10\"><title>139848581807856</title>\n",
       "<polygon fill=\"none\" points=\"76,-498.5 76,-544.5 463,-544.5 463,-498.5 76,-498.5\" stroke=\"black\"/>\n",
       "<text font-family=\"Times,serif\" font-size=\"14.00\" text-anchor=\"middle\" x=\"179.5\" y=\"-517.8\">max_pooling2d_3: MaxPooling2D</text>\n",
       "<polyline fill=\"none\" points=\"283,-498.5 283,-544.5 \" stroke=\"black\"/>\n",
       "<text font-family=\"Times,serif\" font-size=\"14.00\" text-anchor=\"middle\" x=\"310.5\" y=\"-529.3\">input:</text>\n",
       "<polyline fill=\"none\" points=\"283,-521.5 338,-521.5 \" stroke=\"black\"/>\n",
       "<text font-family=\"Times,serif\" font-size=\"14.00\" text-anchor=\"middle\" x=\"310.5\" y=\"-506.3\">output:</text>\n",
       "<polyline fill=\"none\" points=\"338,-498.5 338,-544.5 \" stroke=\"black\"/>\n",
       "<text font-family=\"Times,serif\" font-size=\"14.00\" text-anchor=\"middle\" x=\"400.5\" y=\"-529.3\">(None, 16, 16, 128)</text>\n",
       "<polyline fill=\"none\" points=\"338,-521.5 463,-521.5 \" stroke=\"black\"/>\n",
       "<text font-family=\"Times,serif\" font-size=\"14.00\" text-anchor=\"middle\" x=\"400.5\" y=\"-506.3\">(None, 8, 8, 128)</text>\n",
       "</g>\n",
       "<!-- 139848582259544&#45;&gt;139848581807856 -->\n",
       "<g class=\"edge\" id=\"edge9\"><title>139848582259544-&gt;139848581807856</title>\n",
       "<path d=\"M269.5,-581.366C269.5,-573.152 269.5,-563.658 269.5,-554.725\" fill=\"none\" stroke=\"black\"/>\n",
       "<polygon fill=\"black\" points=\"273,-554.607 269.5,-544.607 266,-554.607 273,-554.607\" stroke=\"black\"/>\n",
       "</g>\n",
       "<!-- 139848581807968 -->\n",
       "<g class=\"node\" id=\"node11\"><title>139848581807968</title>\n",
       "<polygon fill=\"none\" points=\"125,-415.5 125,-461.5 414,-461.5 414,-415.5 125,-415.5\" stroke=\"black\"/>\n",
       "<text font-family=\"Times,serif\" font-size=\"14.00\" text-anchor=\"middle\" x=\"186.5\" y=\"-434.8\">conv2d_7: Conv2D</text>\n",
       "<polyline fill=\"none\" points=\"248,-415.5 248,-461.5 \" stroke=\"black\"/>\n",
       "<text font-family=\"Times,serif\" font-size=\"14.00\" text-anchor=\"middle\" x=\"275.5\" y=\"-446.3\">input:</text>\n",
       "<polyline fill=\"none\" points=\"248,-438.5 303,-438.5 \" stroke=\"black\"/>\n",
       "<text font-family=\"Times,serif\" font-size=\"14.00\" text-anchor=\"middle\" x=\"275.5\" y=\"-423.3\">output:</text>\n",
       "<polyline fill=\"none\" points=\"303,-415.5 303,-461.5 \" stroke=\"black\"/>\n",
       "<text font-family=\"Times,serif\" font-size=\"14.00\" text-anchor=\"middle\" x=\"358.5\" y=\"-446.3\">(None, 8, 8, 128)</text>\n",
       "<polyline fill=\"none\" points=\"303,-438.5 414,-438.5 \" stroke=\"black\"/>\n",
       "<text font-family=\"Times,serif\" font-size=\"14.00\" text-anchor=\"middle\" x=\"358.5\" y=\"-423.3\">(None, 8, 8, 256)</text>\n",
       "</g>\n",
       "<!-- 139848581807856&#45;&gt;139848581807968 -->\n",
       "<g class=\"edge\" id=\"edge10\"><title>139848581807856-&gt;139848581807968</title>\n",
       "<path d=\"M269.5,-498.366C269.5,-490.152 269.5,-480.658 269.5,-471.725\" fill=\"none\" stroke=\"black\"/>\n",
       "<polygon fill=\"black\" points=\"273,-471.607 269.5,-461.607 266,-471.607 273,-471.607\" stroke=\"black\"/>\n",
       "</g>\n",
       "<!-- 139848581998296 -->\n",
       "<g class=\"node\" id=\"node12\"><title>139848581998296</title>\n",
       "<polygon fill=\"none\" points=\"125,-332.5 125,-378.5 414,-378.5 414,-332.5 125,-332.5\" stroke=\"black\"/>\n",
       "<text font-family=\"Times,serif\" font-size=\"14.00\" text-anchor=\"middle\" x=\"186.5\" y=\"-351.8\">conv2d_8: Conv2D</text>\n",
       "<polyline fill=\"none\" points=\"248,-332.5 248,-378.5 \" stroke=\"black\"/>\n",
       "<text font-family=\"Times,serif\" font-size=\"14.00\" text-anchor=\"middle\" x=\"275.5\" y=\"-363.3\">input:</text>\n",
       "<polyline fill=\"none\" points=\"248,-355.5 303,-355.5 \" stroke=\"black\"/>\n",
       "<text font-family=\"Times,serif\" font-size=\"14.00\" text-anchor=\"middle\" x=\"275.5\" y=\"-340.3\">output:</text>\n",
       "<polyline fill=\"none\" points=\"303,-332.5 303,-378.5 \" stroke=\"black\"/>\n",
       "<text font-family=\"Times,serif\" font-size=\"14.00\" text-anchor=\"middle\" x=\"358.5\" y=\"-363.3\">(None, 8, 8, 256)</text>\n",
       "<polyline fill=\"none\" points=\"303,-355.5 414,-355.5 \" stroke=\"black\"/>\n",
       "<text font-family=\"Times,serif\" font-size=\"14.00\" text-anchor=\"middle\" x=\"358.5\" y=\"-340.3\">(None, 8, 8, 256)</text>\n",
       "</g>\n",
       "<!-- 139848581807968&#45;&gt;139848581998296 -->\n",
       "<g class=\"edge\" id=\"edge11\"><title>139848581807968-&gt;139848581998296</title>\n",
       "<path d=\"M269.5,-415.366C269.5,-407.152 269.5,-397.658 269.5,-388.725\" fill=\"none\" stroke=\"black\"/>\n",
       "<polygon fill=\"black\" points=\"273,-388.607 269.5,-378.607 266,-388.607 273,-388.607\" stroke=\"black\"/>\n",
       "</g>\n",
       "<!-- 139848581999304 -->\n",
       "<g class=\"node\" id=\"node13\"><title>139848581999304</title>\n",
       "<polygon fill=\"none\" points=\"83,-249.5 83,-295.5 456,-295.5 456,-249.5 83,-249.5\" stroke=\"black\"/>\n",
       "<text font-family=\"Times,serif\" font-size=\"14.00\" text-anchor=\"middle\" x=\"186.5\" y=\"-268.8\">max_pooling2d_4: MaxPooling2D</text>\n",
       "<polyline fill=\"none\" points=\"290,-249.5 290,-295.5 \" stroke=\"black\"/>\n",
       "<text font-family=\"Times,serif\" font-size=\"14.00\" text-anchor=\"middle\" x=\"317.5\" y=\"-280.3\">input:</text>\n",
       "<polyline fill=\"none\" points=\"290,-272.5 345,-272.5 \" stroke=\"black\"/>\n",
       "<text font-family=\"Times,serif\" font-size=\"14.00\" text-anchor=\"middle\" x=\"317.5\" y=\"-257.3\">output:</text>\n",
       "<polyline fill=\"none\" points=\"345,-249.5 345,-295.5 \" stroke=\"black\"/>\n",
       "<text font-family=\"Times,serif\" font-size=\"14.00\" text-anchor=\"middle\" x=\"400.5\" y=\"-280.3\">(None, 8, 8, 256)</text>\n",
       "<polyline fill=\"none\" points=\"345,-272.5 456,-272.5 \" stroke=\"black\"/>\n",
       "<text font-family=\"Times,serif\" font-size=\"14.00\" text-anchor=\"middle\" x=\"400.5\" y=\"-257.3\">(None, 4, 4, 256)</text>\n",
       "</g>\n",
       "<!-- 139848581998296&#45;&gt;139848581999304 -->\n",
       "<g class=\"edge\" id=\"edge12\"><title>139848581998296-&gt;139848581999304</title>\n",
       "<path d=\"M269.5,-332.366C269.5,-324.152 269.5,-314.658 269.5,-305.725\" fill=\"none\" stroke=\"black\"/>\n",
       "<polygon fill=\"black\" points=\"273,-305.607 269.5,-295.607 266,-305.607 273,-305.607\" stroke=\"black\"/>\n",
       "</g>\n",
       "<!-- 139848581615400 -->\n",
       "<g class=\"node\" id=\"node14\"><title>139848581615400</title>\n",
       "<polygon fill=\"none\" points=\"131.5,-166.5 131.5,-212.5 407.5,-212.5 407.5,-166.5 131.5,-166.5\" stroke=\"black\"/>\n",
       "<text font-family=\"Times,serif\" font-size=\"14.00\" text-anchor=\"middle\" x=\"186.5\" y=\"-185.8\">flatten_1: Flatten</text>\n",
       "<polyline fill=\"none\" points=\"241.5,-166.5 241.5,-212.5 \" stroke=\"black\"/>\n",
       "<text font-family=\"Times,serif\" font-size=\"14.00\" text-anchor=\"middle\" x=\"269\" y=\"-197.3\">input:</text>\n",
       "<polyline fill=\"none\" points=\"241.5,-189.5 296.5,-189.5 \" stroke=\"black\"/>\n",
       "<text font-family=\"Times,serif\" font-size=\"14.00\" text-anchor=\"middle\" x=\"269\" y=\"-174.3\">output:</text>\n",
       "<polyline fill=\"none\" points=\"296.5,-166.5 296.5,-212.5 \" stroke=\"black\"/>\n",
       "<text font-family=\"Times,serif\" font-size=\"14.00\" text-anchor=\"middle\" x=\"352\" y=\"-197.3\">(None, 4, 4, 256)</text>\n",
       "<polyline fill=\"none\" points=\"296.5,-189.5 407.5,-189.5 \" stroke=\"black\"/>\n",
       "<text font-family=\"Times,serif\" font-size=\"14.00\" text-anchor=\"middle\" x=\"352\" y=\"-174.3\">(None, 4096)</text>\n",
       "</g>\n",
       "<!-- 139848581999304&#45;&gt;139848581615400 -->\n",
       "<g class=\"edge\" id=\"edge13\"><title>139848581999304-&gt;139848581615400</title>\n",
       "<path d=\"M269.5,-249.366C269.5,-241.152 269.5,-231.658 269.5,-222.725\" fill=\"none\" stroke=\"black\"/>\n",
       "<polygon fill=\"black\" points=\"273,-222.607 269.5,-212.607 266,-222.607 273,-222.607\" stroke=\"black\"/>\n",
       "</g>\n",
       "<!-- 139848581750968 -->\n",
       "<g class=\"node\" id=\"node15\"><title>139848581750968</title>\n",
       "<polygon fill=\"none\" points=\"135,-83.5 135,-129.5 404,-129.5 404,-83.5 135,-83.5\" stroke=\"black\"/>\n",
       "<text font-family=\"Times,serif\" font-size=\"14.00\" text-anchor=\"middle\" x=\"197.5\" y=\"-102.8\">dropout_1: Dropout</text>\n",
       "<polyline fill=\"none\" points=\"260,-83.5 260,-129.5 \" stroke=\"black\"/>\n",
       "<text font-family=\"Times,serif\" font-size=\"14.00\" text-anchor=\"middle\" x=\"287.5\" y=\"-114.3\">input:</text>\n",
       "<polyline fill=\"none\" points=\"260,-106.5 315,-106.5 \" stroke=\"black\"/>\n",
       "<text font-family=\"Times,serif\" font-size=\"14.00\" text-anchor=\"middle\" x=\"287.5\" y=\"-91.3\">output:</text>\n",
       "<polyline fill=\"none\" points=\"315,-83.5 315,-129.5 \" stroke=\"black\"/>\n",
       "<text font-family=\"Times,serif\" font-size=\"14.00\" text-anchor=\"middle\" x=\"359.5\" y=\"-114.3\">(None, 4096)</text>\n",
       "<polyline fill=\"none\" points=\"315,-106.5 404,-106.5 \" stroke=\"black\"/>\n",
       "<text font-family=\"Times,serif\" font-size=\"14.00\" text-anchor=\"middle\" x=\"359.5\" y=\"-91.3\">(None, 4096)</text>\n",
       "</g>\n",
       "<!-- 139848581615400&#45;&gt;139848581750968 -->\n",
       "<g class=\"edge\" id=\"edge14\"><title>139848581615400-&gt;139848581750968</title>\n",
       "<path d=\"M269.5,-166.366C269.5,-158.152 269.5,-148.658 269.5,-139.725\" fill=\"none\" stroke=\"black\"/>\n",
       "<polygon fill=\"black\" points=\"273,-139.607 269.5,-129.607 266,-139.607 273,-139.607\" stroke=\"black\"/>\n",
       "</g>\n",
       "<!-- 139848581754496 -->\n",
       "<g class=\"node\" id=\"node16\"><title>139848581754496</title>\n",
       "<polygon fill=\"none\" points=\"0,-0.5 0,-46.5 257,-46.5 257,-0.5 0,-0.5\" stroke=\"black\"/>\n",
       "<text font-family=\"Times,serif\" font-size=\"14.00\" text-anchor=\"middle\" x=\"56.5\" y=\"-19.8\">tags_misc: Dense</text>\n",
       "<polyline fill=\"none\" points=\"113,-0.5 113,-46.5 \" stroke=\"black\"/>\n",
       "<text font-family=\"Times,serif\" font-size=\"14.00\" text-anchor=\"middle\" x=\"140.5\" y=\"-31.3\">input:</text>\n",
       "<polyline fill=\"none\" points=\"113,-23.5 168,-23.5 \" stroke=\"black\"/>\n",
       "<text font-family=\"Times,serif\" font-size=\"14.00\" text-anchor=\"middle\" x=\"140.5\" y=\"-8.3\">output:</text>\n",
       "<polyline fill=\"none\" points=\"168,-0.5 168,-46.5 \" stroke=\"black\"/>\n",
       "<text font-family=\"Times,serif\" font-size=\"14.00\" text-anchor=\"middle\" x=\"212.5\" y=\"-31.3\">(None, 4096)</text>\n",
       "<polyline fill=\"none\" points=\"168,-23.5 257,-23.5 \" stroke=\"black\"/>\n",
       "<text font-family=\"Times,serif\" font-size=\"14.00\" text-anchor=\"middle\" x=\"212.5\" y=\"-8.3\">(None, 13)</text>\n",
       "</g>\n",
       "<!-- 139848581750968&#45;&gt;139848581754496 -->\n",
       "<g class=\"edge\" id=\"edge15\"><title>139848581750968-&gt;139848581754496</title>\n",
       "<path d=\"M230.971,-83.3664C214.029,-73.6337 193.962,-62.1057 176.096,-51.8424\" fill=\"none\" stroke=\"black\"/>\n",
       "<polygon fill=\"black\" points=\"177.397,-48.5533 166.982,-46.6068 173.91,-54.623 177.397,-48.5533\" stroke=\"black\"/>\n",
       "</g>\n",
       "<!-- 139848581750912 -->\n",
       "<g class=\"node\" id=\"node17\"><title>139848581750912</title>\n",
       "<polygon fill=\"none\" points=\"275,-0.5 275,-46.5 548,-46.5 548,-0.5 275,-0.5\" stroke=\"black\"/>\n",
       "<text font-family=\"Times,serif\" font-size=\"14.00\" text-anchor=\"middle\" x=\"339.5\" y=\"-19.8\">tags_weather: Dense</text>\n",
       "<polyline fill=\"none\" points=\"404,-0.5 404,-46.5 \" stroke=\"black\"/>\n",
       "<text font-family=\"Times,serif\" font-size=\"14.00\" text-anchor=\"middle\" x=\"431.5\" y=\"-31.3\">input:</text>\n",
       "<polyline fill=\"none\" points=\"404,-23.5 459,-23.5 \" stroke=\"black\"/>\n",
       "<text font-family=\"Times,serif\" font-size=\"14.00\" text-anchor=\"middle\" x=\"431.5\" y=\"-8.3\">output:</text>\n",
       "<polyline fill=\"none\" points=\"459,-0.5 459,-46.5 \" stroke=\"black\"/>\n",
       "<text font-family=\"Times,serif\" font-size=\"14.00\" text-anchor=\"middle\" x=\"503.5\" y=\"-31.3\">(None, 4096)</text>\n",
       "<polyline fill=\"none\" points=\"459,-23.5 548,-23.5 \" stroke=\"black\"/>\n",
       "<text font-family=\"Times,serif\" font-size=\"14.00\" text-anchor=\"middle\" x=\"503.5\" y=\"-8.3\">(None, 5)</text>\n",
       "</g>\n",
       "<!-- 139848581750968&#45;&gt;139848581750912 -->\n",
       "<g class=\"edge\" id=\"edge16\"><title>139848581750968-&gt;139848581750912</title>\n",
       "<path d=\"M308.302,-83.3664C325.364,-73.6337 345.574,-62.1057 363.566,-51.8424\" fill=\"none\" stroke=\"black\"/>\n",
       "<polygon fill=\"black\" points=\"365.793,-54.6019 372.745,-46.6068 362.324,-48.5215 365.793,-54.6019\" stroke=\"black\"/>\n",
       "</g>\n",
       "</g>\n",
       "</svg>"
      ],
      "text/plain": [
       "<IPython.core.display.SVG object>"
      ]
     },
     "execution_count": 11,
     "metadata": {},
     "output_type": "execute_result"
    }
   ],
   "source": [
    "model_as_svg(model)"
   ]
  },
  {
   "cell_type": "code",
   "execution_count": 12,
   "metadata": {
    "collapsed": true
   },
   "outputs": [],
   "source": [
    "model.compile(\n",
    "    optimizer='rmsprop',\n",
    "    loss={\n",
    "        'tags_misc': 'binary_crossentropy',\n",
    "        'tags_weather': 'binary_crossentropy'\n",
    "    },\n",
    "    loss_weights={'tags_misc': 1.,\n",
    "                  'tags_weather': 0.5})"
   ]
  },
  {
   "cell_type": "code",
   "execution_count": 13,
   "metadata": {
    "collapsed": true
   },
   "outputs": [],
   "source": [
    "def random_transform_batch(b):\n",
    "    for i, img in enumerate(b[0]):\n",
    "        b[0][i] = random_transform(img, debug=False)\n",
    "    return b"
   ]
  },
  {
   "cell_type": "code",
   "execution_count": null,
   "metadata": {
    "collapsed": true
   },
   "outputs": [],
   "source": []
  },
  {
   "cell_type": "code",
   "execution_count": 14,
   "metadata": {
    "collapsed": true
   },
   "outputs": [],
   "source": [
    "# @see http://anandology.com/blog/using-iterators-and-generators/\n",
    "\n",
    "import threading\n",
    "\n",
    "\n",
    "class threadsafe_iter:\n",
    "    def __init__(self, it):\n",
    "        self.it = it\n",
    "        self.lock = threading.Lock()\n",
    "\n",
    "    def __iter__(self):\n",
    "        return self\n",
    "\n",
    "    def next(self):\n",
    "        with self.lock:\n",
    "            return self.it.next()\n",
    "\n",
    "\n",
    "def threadsafe_generator(f):\n",
    "    def g(*a, **kw):\n",
    "        return threadsafe_iter(f(*a, **kw))\n",
    "\n",
    "    return g"
   ]
  },
  {
   "cell_type": "code",
   "execution_count": 39,
   "metadata": {
    "collapsed": true
   },
   "outputs": [],
   "source": [
    "# data generation\n",
    "\n",
    "# train_batch_index = -1\n",
    "\n",
    "\n",
    "def train_generator():\n",
    "    #     global train_batch_index\n",
    "\n",
    "    #     a = 'T' + str(int(np.random.rand() * 1000))\n",
    "    #     fn = '/tmp/gen-' + a\n",
    "\n",
    "    while True:\n",
    "\n",
    "        train_batch_index = np.random.randint(\n",
    "            TRAIN_SAMPLES_PER_EPOCH / TRAIN_BATCH_SIZE)\n",
    "\n",
    "        #         with open(fn, 'w') as f:\n",
    "        #             f.write(str(train_batch_index))\n",
    "\n",
    "        b = generate_batch(\n",
    "            n_samples=TRAIN_BATCH_SIZE,\n",
    "            batch_index=train_batch_index,\n",
    "            X_files=X_files_train,\n",
    "            Y_tags_misc=Y_tags_misc_train,\n",
    "            Y_tags_weather=Y_tags_weather_train,\n",
    "            images_dir=IMAGES_DIR,\n",
    "            image_shape=IMAGE_SHAPE)\n",
    "\n",
    "        b = random_transform_batch(b)\n",
    "\n",
    "        yield b\n",
    "\n",
    "\n",
    "# val_batch_index = -1\n",
    "\n",
    "\n",
    "def val_generator():\n",
    "    #     global val_batch_index\n",
    "\n",
    "    while True:\n",
    "        val_batch_index = np.random.randint(\n",
    "            VAL_SAMPLES_PER_EPOCH / VAL_BATCH_SIZE)\n",
    "\n",
    "        b = generate_batch(\n",
    "            n_samples=VAL_BATCH_SIZE,\n",
    "            batch_index=val_batch_index,\n",
    "            X_files=X_files_val,\n",
    "            Y_tags_misc=Y_tags_misc_val,\n",
    "            Y_tags_weather=Y_tags_weather_val,\n",
    "            images_dir=IMAGES_DIR,\n",
    "            image_shape=IMAGE_SHAPE)\n",
    "\n",
    "        b = random_transform_batch(b)\n",
    "\n",
    "        yield b"
   ]
  },
  {
   "cell_type": "code",
   "execution_count": null,
   "metadata": {
    "collapsed": true
   },
   "outputs": [],
   "source": []
  },
  {
   "cell_type": "code",
   "execution_count": null,
   "metadata": {
    "scrolled": false
   },
   "outputs": [
    {
     "name": "stderr",
     "output_type": "stream",
     "text": [
      "/usr/local/lib/python3.5/dist-packages/ipykernel_launcher.py:21: UserWarning: Update your `fit_generator` call to the Keras 2 API: `fit_generator(<generator..., use_multiprocessing=True, workers=4, initial_epoch=0, epochs=100, callbacks=[<keras.ca..., steps_per_epoch=32383, validation_steps=8096, max_queue_size=40, validation_data=<generator..., verbose=1, class_weight=None)`\n",
      "/usr/local/lib/python3.5/dist-packages/keras/engine/training.py:1786: UserWarning: Using a generator with `use_multiprocessing=True` and multiple workers may duplicate your data. Please consider using the`keras.utils.Sequence class.\n",
      "  UserWarning('Using a generator with `use_multiprocessing=True`'\n"
     ]
    },
    {
     "name": "stdout",
     "output_type": "stream",
     "text": [
      "Epoch 1/100\n",
      " 4519/32383 [===>..........................] - ETA: 602s - loss: 0.2670 - tags_misc_loss: 0.1738 - tags_weather_loss: 0.1864"
     ]
    }
   ],
   "source": [
    "model.fit_generator(\n",
    "    train_generator(),\n",
    "    steps_per_epoch=TRAIN_SAMPLES_PER_EPOCH,\n",
    "    epochs=TRAIN_EPOCHS,\n",
    "    verbose=1,\n",
    "    callbacks=[\n",
    "        TensorBoard(log_dir=TENSORBOARD_DIR, histogram_freq=0),\n",
    "        ModelCheckpoint(\n",
    "                MODEL_CHECKPOINT_DIR + \\\n",
    "                '/e{epoch:02d}-l={loss:.5f}-vl={val_loss:.5f}.h5',\n",
    "                monitor='val_loss', verbose=0, save_best_only=False,\n",
    "                save_weights_only=False, mode='auto'\n",
    "            ),\n",
    "    ],\n",
    "    validation_data=val_generator(),\n",
    "    validation_steps=VAL_SAMPLES_PER_EPOCH,\n",
    "    class_weight=None,\n",
    "    max_q_size=40,\n",
    "    workers=4,\n",
    "    pickle_safe=True,\n",
    "    initial_epoch=0)"
   ]
  },
  {
   "cell_type": "markdown",
   "metadata": {},
   "source": [
    "---"
   ]
  },
  {
   "cell_type": "code",
   "execution_count": null,
   "metadata": {
    "collapsed": true
   },
   "outputs": [],
   "source": [
    "b = generate_batch(\n",
    "            n_samples=10,\n",
    "            batch_index=0,\n",
    "            X_files=X_files_train,\n",
    "            Y_tags_misc=Y_tags_misc_train,\n",
    "            Y_tags_weather=Y_tags_weather_train,\n",
    "            images_dir=IMAGES_DIR,\n",
    "            image_shape=IMAGE_SHAPE)"
   ]
  },
  {
   "cell_type": "code",
   "execution_count": null,
   "metadata": {
    "collapsed": true
   },
   "outputs": [],
   "source": [
    "b_ = random_transform_batch(b)\n",
    "plt.imshow(b_[0][4][:,:,3])"
   ]
  },
  {
   "cell_type": "code",
   "execution_count": 33,
   "metadata": {},
   "outputs": [
    {
     "name": "stdout",
     "output_type": "stream",
     "text": [
      "Random shear applied 0.39269908169872414\n",
      "Random shear applied 0.39269908169872414\n",
      "Random shift applied (0.25, 0.25)\n",
      "Random shear applied 0.39269908169872414\n",
      "Random shift applied (0.25, 0.25)\n",
      "Random zoom applied (0.75, 1.25)\n",
      "Random shift applied (0.25, 0.25)\n",
      "Random zoom applied (0.75, 1.25)\n",
      "Random shear applied 0.39269908169872414\n",
      "Random shear applied 0.39269908169872414\n",
      "Random shift applied (0.25, 0.25)\n"
     ]
    },
    {
     "data": {
      "text/plain": [
       "<matplotlib.image.AxesImage at 0x7fe24b7bceb8>"
      ]
     },
     "execution_count": 33,
     "metadata": {},
     "output_type": "execute_result"
    },
    {
     "data": {
      "image/png": "[encoded data removed]",
      "text/plain": [
       "<matplotlib.figure.Figure at 0x7fe24b78d940>"
      ]
     },
     "metadata": {
      "image/png": {
       "height": 250,
       "width": 253
      }
     },
     "output_type": "display_data"
    }
   ],
   "source": [
    "b_ = random_transform_batch(b)\n",
    "plt.imshow(b_[0][4][:,:,3])"
   ]
  },
  {
   "cell_type": "code",
   "execution_count": 36,
   "metadata": {},
   "outputs": [
    {
     "name": "stdout",
     "output_type": "stream",
     "text": [
      "Random zoom applied (0.75, 1.25)\n",
      "Random shift applied (0.25, 0.25)\n",
      "Random shift applied (0.25, 0.25)\n",
      "Random shift applied (0.25, 0.25)\n",
      "Random zoom applied (0.75, 1.25)\n",
      "Random rotation applied 45\n",
      "Random rotation applied 45\n",
      "Random shift applied (0.25, 0.25)\n",
      "Random rotation applied 45\n",
      "Random shear applied 0.39269908169872414\n",
      "Random shift applied (0.25, 0.25)\n",
      "Random zoom applied (0.75, 1.25)\n",
      "Random rotation applied 45\n",
      "Random zoom applied (0.75, 1.25)\n",
      "Random zoom applied (0.75, 1.25)\n",
      "Random shift applied (0.25, 0.25)\n"
     ]
    },
    {
     "data": {
      "text/plain": [
       "<matplotlib.image.AxesImage at 0x7fe24b68c438>"
      ]
     },
     "execution_count": 36,
     "metadata": {},
     "output_type": "execute_result"
    },
    {
     "data": {
      "image/png": "[encoded data removed]",
      "text/plain": [
       "<matplotlib.figure.Figure at 0x7fe24b75f940>"
      ]
     },
     "metadata": {
      "image/png": {
       "height": 250,
       "width": 253
      }
     },
     "output_type": "display_data"
    }
   ],
   "source": [
    "b_ = random_transform_batch(b)\n",
    "plt.imshow(b_[0][4][:,:,3])"
   ]
  },
  {
   "cell_type": "code",
   "execution_count": null,
   "metadata": {
    "collapsed": true
   },
   "outputs": [],
   "source": []
  }
 ],
 "metadata": {
  "kernelspec": {
   "display_name": "Python 3",
   "language": "python",
   "name": "python3"
  },
  "language_info": {
   "codemirror_mode": {
    "name": "ipython",
    "version": 3
   },
   "file_extension": ".py",
   "mimetype": "text/x-python",
   "name": "python",
   "nbconvert_exporter": "python",
   "pygments_lexer": "ipython3",
   "version": "3.5.2"
  }
 },
 "nbformat": 4,
 "nbformat_minor": 2
}
