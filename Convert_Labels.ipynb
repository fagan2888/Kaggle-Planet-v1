{
 "cells": [
  {
   "cell_type": "code",
   "execution_count": 4,
   "metadata": {
    "collapsed": true
   },
   "outputs": [],
   "source": [
    "DATA_DIR = '/datasets/kaggle/planet/'\n",
    "OUT_DIR = './out'"
   ]
  },
  {
   "cell_type": "code",
   "execution_count": 5,
   "metadata": {
    "collapsed": true
   },
   "outputs": [],
   "source": [
    "%run 'Lib.ipynb'"
   ]
  },
  {
   "cell_type": "code",
   "execution_count": 6,
   "metadata": {},
   "outputs": [
    {
     "data": {
      "text/html": [
       "<div>\n",
       "<style>\n",
       "    .dataframe thead tr:only-child th {\n",
       "        text-align: right;\n",
       "    }\n",
       "\n",
       "    .dataframe thead th {\n",
       "        text-align: left;\n",
       "    }\n",
       "\n",
       "    .dataframe tbody tr th {\n",
       "        vertical-align: top;\n",
       "    }\n",
       "</style>\n",
       "<table border=\"1\" class=\"dataframe\">\n",
       "  <thead>\n",
       "    <tr style=\"text-align: right;\">\n",
       "      <th></th>\n",
       "      <th>image_name</th>\n",
       "      <th>tags</th>\n",
       "    </tr>\n",
       "  </thead>\n",
       "  <tbody>\n",
       "    <tr>\n",
       "      <th>0</th>\n",
       "      <td>train_0</td>\n",
       "      <td>haze primary</td>\n",
       "    </tr>\n",
       "    <tr>\n",
       "      <th>1</th>\n",
       "      <td>train_1</td>\n",
       "      <td>agriculture clear primary water</td>\n",
       "    </tr>\n",
       "    <tr>\n",
       "      <th>2</th>\n",
       "      <td>train_2</td>\n",
       "      <td>clear primary</td>\n",
       "    </tr>\n",
       "    <tr>\n",
       "      <th>3</th>\n",
       "      <td>train_3</td>\n",
       "      <td>clear primary</td>\n",
       "    </tr>\n",
       "    <tr>\n",
       "      <th>4</th>\n",
       "      <td>train_4</td>\n",
       "      <td>agriculture clear habitation primary road</td>\n",
       "    </tr>\n",
       "  </tbody>\n",
       "</table>\n",
       "</div>"
      ],
      "text/plain": [
       "  image_name                                       tags\n",
       "0    train_0                               haze primary\n",
       "1    train_1            agriculture clear primary water\n",
       "2    train_2                              clear primary\n",
       "3    train_3                              clear primary\n",
       "4    train_4  agriculture clear habitation primary road"
      ]
     },
     "execution_count": 6,
     "metadata": {},
     "output_type": "execute_result"
    }
   ],
   "source": [
    "train_df = pd.read_csv(DATA_DIR + '/train_v2.csv')\n",
    "train_df.head()"
   ]
  },
  {
   "cell_type": "code",
   "execution_count": 7,
   "metadata": {},
   "outputs": [
    {
     "name": "stdout",
     "output_type": "stream",
     "text": [
      "total 35438344\r\n",
      "drwxrwxr-x 2 1003 1004     1372160 Apr 19 15:08 test-jpg\r\n",
      "drwxrwxr-x 2 root root      675840 May  4 10:12 test-jpg-additional\r\n",
      "-rw-r--r-- 1 root root   318407195 Jun 26 15:43 test-jpg-additional.tar.7z\r\n",
      "-rw-r--r-- 1 root root   632362315 Jun 26 15:46 test-jpg.tar.7z\r\n",
      "drwxrwxr-x 2 root root     2068480 May  5 21:02 test-tif-v2\r\n",
      "-rw-r--r-- 1 root root 20883992351 Jun 26 16:34 test-tif-v2.tar.7z\r\n",
      "-rw-r----- 1 root root      613971 Jun  5 15:30 test_v2_file_mapping.csv\r\n",
      "-rw-r--r-- 1 root root      112887 Jun 26 16:05 test_v2_file_mapping.csv.zip\r\n",
      "drwxrwxr-x 2 1003 1004     1368064 Apr 19 14:59 train-jpg\r\n",
      "-rw-r--r-- 1 root root   629296207 Jun 26 16:07 train-jpg.tar.7z\r\n",
      "drwxrwxr-x 2 root root     1372160 May  1 13:16 train-tif-v2\r\n",
      "-rw-r--r-- 1 root root 13815595131 Jun 26 16:33 train-tif-v2.tar.7z\r\n",
      "-rw-r--r-- 1 root root     1432177 May  8 19:52 train_v2.csv\r\n",
      "-rw-r--r-- 1 root root      162930 Jun 26 16:06 train_v2.csv.zip\r\n"
     ]
    }
   ],
   "source": [
    "!ls -l /datasets/kaggle/planet/"
   ]
  },
  {
   "cell_type": "code",
   "execution_count": null,
   "metadata": {
    "collapsed": true
   },
   "outputs": [],
   "source": []
  }
 ],
 "metadata": {
  "kernelspec": {
   "display_name": "Python 3",
   "language": "python",
   "name": "python3"
  },
  "language_info": {
   "codemirror_mode": {
    "name": "ipython",
    "version": 3
   },
   "file_extension": ".py",
   "mimetype": "text/x-python",
   "name": "python",
   "nbconvert_exporter": "python",
   "pygments_lexer": "ipython3",
   "version": "3.5.2"
  }
 },
 "nbformat": 4,
 "nbformat_minor": 2
}
